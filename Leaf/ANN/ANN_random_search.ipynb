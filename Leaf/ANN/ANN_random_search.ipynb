{
 "cells": [
  {
   "cell_type": "code",
   "execution_count": 6,
   "id": "collaborative-providence",
   "metadata": {},
   "outputs": [],
   "source": [
    "import pandas as pd\n",
    "import numpy as np\n",
    "import warnings\n",
    "from sklearn.neural_network import MLPClassifier\n",
    "from sklearn.model_selection import RepeatedStratifiedKFold\n",
    "from sklearn.model_selection import GridSearchCV\n",
    "from sklearn.model_selection import cross_val_score\n",
    "\n",
    "#warnings.filterwarnings('ignore') "
   ]
  },
  {
   "cell_type": "markdown",
   "id": "boring-worker",
   "metadata": {},
   "source": [
    "# Feature Selection Accuracy"
   ]
  },
  {
   "cell_type": "code",
   "execution_count": 7,
   "id": "demonstrated-pledge",
   "metadata": {},
   "outputs": [],
   "source": [
    "data = pd.read_csv(\"../Dataset/fe_leaf.csv\", delimiter=\",\")\n",
    "X_, y_ = data.iloc[:, :-1], data.iloc[:, -1:]\n",
    "num_features = len(X_.columns)"
   ]
  },
  {
   "cell_type": "code",
   "execution_count": 8,
   "id": "wireless-county",
   "metadata": {},
   "outputs": [],
   "source": [
    "cv_strat = RepeatedStratifiedKFold(n_splits=5, n_repeats=4, random_state=42)\n",
    "#param = {'hidden_layer_sizes': [4, 8, 10, 12, 16, 20, 25, 64, 100, 128, 256, (128, 64), (256, 128), (256, 64), (64, 32), (100, 25), (10, 10), (10, 8), (25, 18), (8, 4)], 'activation': ['identity', 'logistic', 'tanh', 'relu' ], 'solver':['lbfgs', 'sgd', 'adam'],'alpha':[0.0001, 0.001], 'learning_rate':['constant', 'adaptive', 'invscaling'], 'max_iter':[1000], 'learning_rate_init':[0.001, 0.0001, 0.01]}"
   ]
  },
  {
   "cell_type": "code",
   "execution_count": 59,
   "id": "accredited-melbourne",
   "metadata": {},
   "outputs": [
    {
     "data": {
      "text/plain": [
       "0.6933823529411763"
      ]
     },
     "execution_count": 59,
     "metadata": {},
     "output_type": "execute_result"
    }
   ],
   "source": [
    "clf = MLPClassifier(hidden_layer_sizes=64, activation='relu', alpha = 0.001, max_iter=1200, solver='lbfgs', learning_rate_init=0.0001, learning_rate='adaptive', random_state=42)\n",
    "cv_results_full = cross_val_score(estimator = clf,  X = X_, y = y_, cv = cv_strat, scoring = 'accuracy')\n",
    "cv_results_full.mean()"
   ]
  },
  {
   "cell_type": "code",
   "execution_count": 41,
   "id": "considered-riverside",
   "metadata": {},
   "outputs": [],
   "source": [
    "#clf = MLPClassifier(hidden_layer_sizes=64, activation='relu', alpha = 0.001, max_iter=1200, solver='lbfgs', learning_rate_init=0.0001, learning_rate='adaptive', random_state=42)\n"
   ]
  },
  {
   "cell_type": "markdown",
   "id": "right-stocks",
   "metadata": {},
   "source": [
    "# Full Dataset Accuracy"
   ]
  },
  {
   "cell_type": "code",
   "execution_count": 56,
   "id": "continuous-mexico",
   "metadata": {},
   "outputs": [],
   "source": [
    "data_all = pd.read_csv(\"../Dataset/leaf.csv\", delimiter=\",\")\n",
    "X_all, y_all = data_all.iloc[:, :-1], data_all.iloc[:, -1:]\n",
    "num_features_all = len(X_all.columns)"
   ]
  },
  {
   "cell_type": "code",
   "execution_count": 66,
   "id": "private-recipe",
   "metadata": {},
   "outputs": [
    {
     "data": {
      "text/plain": [
       "0.7617647058823528"
      ]
     },
     "execution_count": 66,
     "metadata": {},
     "output_type": "execute_result"
    }
   ],
   "source": [
    "clf = MLPClassifier(hidden_layer_sizes=70, activation='relu', alpha = 0.001, max_iter=2200, solver='lbfgs', learning_rate_init=0.0001, learning_rate='adaptive', random_state=42)\n",
    "cv_results_full = cross_val_score(estimator = clf,  X = X_all, y = y_all, cv = cv_strat, scoring = 'accuracy')\n",
    "cv_results_full.mean()"
   ]
  },
  {
   "cell_type": "code",
   "execution_count": null,
   "id": "difficult-harvey",
   "metadata": {},
   "outputs": [],
   "source": [
    "#clf = MLPClassifier(hidden_layer_sizes=70, activation='relu', alpha = 0.001, max_iter=2200, solver='lbfgs', learning_rate_init=0.0001, learning_rate='adaptive', random_state=42)"
   ]
  },
  {
   "cell_type": "code",
   "execution_count": 9,
   "id": "computational-residence",
   "metadata": {},
   "outputs": [
    {
     "name": "stdout",
     "output_type": "stream",
     "text": [
      "{'activation': 'relu', 'alpha': 0.001, 'hidden_layer_sizes': 25, 'learning_rate': 'adaptive', 'max_iter': 500, 'solver': 'lbfgs'}\n",
      "0.7169117647058824\n"
     ]
    }
   ],
   "source": [
    "param = {'hidden_layer_sizes': [4, 8, 10, 12, 16, 20, 25], 'activation': ['relu' ], 'solver':['lbfgs', 'sgd', 'adam'],'alpha':[0.0001, 0.001], 'learning_rate':['constant', 'adaptive'], 'max_iter':[500]}\n",
    "gs_ANN_all = GridSearchCV(estimator = MLPClassifier(), param_grid = param, cv=cv_strat, scoring='accuracy')\n",
    "gs_ANN_all.fit(X_all, y_all)\n",
    "print(gs_ANN_all.best_params_)\n",
    "print(gs_ANN_all.best_score_)"
   ]
  },
  {
   "cell_type": "code",
   "execution_count": 11,
   "id": "powerful-course",
   "metadata": {},
   "outputs": [
    {
     "data": {
      "text/html": [
       "<div>\n",
       "<style scoped>\n",
       "    .dataframe tbody tr th:only-of-type {\n",
       "        vertical-align: middle;\n",
       "    }\n",
       "\n",
       "    .dataframe tbody tr th {\n",
       "        vertical-align: top;\n",
       "    }\n",
       "\n",
       "    .dataframe thead th {\n",
       "        text-align: right;\n",
       "    }\n",
       "</style>\n",
       "<table border=\"1\" class=\"dataframe\">\n",
       "  <thead>\n",
       "    <tr style=\"text-align: right;\">\n",
       "      <th></th>\n",
       "      <th>activation</th>\n",
       "      <th>alpha</th>\n",
       "      <th>hidden_layer_sizes</th>\n",
       "      <th>learning_rate</th>\n",
       "      <th>max_iter</th>\n",
       "      <th>solver</th>\n",
       "      <th>test_score</th>\n",
       "    </tr>\n",
       "  </thead>\n",
       "  <tbody>\n",
       "    <tr>\n",
       "      <th>0</th>\n",
       "      <td>relu</td>\n",
       "      <td>0.0001</td>\n",
       "      <td>4</td>\n",
       "      <td>constant</td>\n",
       "      <td>500</td>\n",
       "      <td>lbfgs</td>\n",
       "      <td>0.335294</td>\n",
       "    </tr>\n",
       "    <tr>\n",
       "      <th>1</th>\n",
       "      <td>relu</td>\n",
       "      <td>0.0001</td>\n",
       "      <td>4</td>\n",
       "      <td>constant</td>\n",
       "      <td>500</td>\n",
       "      <td>sgd</td>\n",
       "      <td>0.080882</td>\n",
       "    </tr>\n",
       "    <tr>\n",
       "      <th>2</th>\n",
       "      <td>relu</td>\n",
       "      <td>0.0001</td>\n",
       "      <td>4</td>\n",
       "      <td>constant</td>\n",
       "      <td>500</td>\n",
       "      <td>adam</td>\n",
       "      <td>0.251471</td>\n",
       "    </tr>\n",
       "    <tr>\n",
       "      <th>3</th>\n",
       "      <td>relu</td>\n",
       "      <td>0.0001</td>\n",
       "      <td>4</td>\n",
       "      <td>adaptive</td>\n",
       "      <td>500</td>\n",
       "      <td>lbfgs</td>\n",
       "      <td>0.390441</td>\n",
       "    </tr>\n",
       "    <tr>\n",
       "      <th>4</th>\n",
       "      <td>relu</td>\n",
       "      <td>0.0001</td>\n",
       "      <td>4</td>\n",
       "      <td>adaptive</td>\n",
       "      <td>500</td>\n",
       "      <td>sgd</td>\n",
       "      <td>0.097059</td>\n",
       "    </tr>\n",
       "    <tr>\n",
       "      <th>...</th>\n",
       "      <td>...</td>\n",
       "      <td>...</td>\n",
       "      <td>...</td>\n",
       "      <td>...</td>\n",
       "      <td>...</td>\n",
       "      <td>...</td>\n",
       "      <td>...</td>\n",
       "    </tr>\n",
       "    <tr>\n",
       "      <th>79</th>\n",
       "      <td>relu</td>\n",
       "      <td>0.0010</td>\n",
       "      <td>25</td>\n",
       "      <td>constant</td>\n",
       "      <td>500</td>\n",
       "      <td>sgd</td>\n",
       "      <td>0.186765</td>\n",
       "    </tr>\n",
       "    <tr>\n",
       "      <th>80</th>\n",
       "      <td>relu</td>\n",
       "      <td>0.0010</td>\n",
       "      <td>25</td>\n",
       "      <td>constant</td>\n",
       "      <td>500</td>\n",
       "      <td>adam</td>\n",
       "      <td>0.550735</td>\n",
       "    </tr>\n",
       "    <tr>\n",
       "      <th>81</th>\n",
       "      <td>relu</td>\n",
       "      <td>0.0010</td>\n",
       "      <td>25</td>\n",
       "      <td>adaptive</td>\n",
       "      <td>500</td>\n",
       "      <td>lbfgs</td>\n",
       "      <td>0.716912</td>\n",
       "    </tr>\n",
       "    <tr>\n",
       "      <th>82</th>\n",
       "      <td>relu</td>\n",
       "      <td>0.0010</td>\n",
       "      <td>25</td>\n",
       "      <td>adaptive</td>\n",
       "      <td>500</td>\n",
       "      <td>sgd</td>\n",
       "      <td>0.191176</td>\n",
       "    </tr>\n",
       "    <tr>\n",
       "      <th>83</th>\n",
       "      <td>relu</td>\n",
       "      <td>0.0010</td>\n",
       "      <td>25</td>\n",
       "      <td>adaptive</td>\n",
       "      <td>500</td>\n",
       "      <td>adam</td>\n",
       "      <td>0.549265</td>\n",
       "    </tr>\n",
       "  </tbody>\n",
       "</table>\n",
       "<p>84 rows × 7 columns</p>\n",
       "</div>"
      ],
      "text/plain": [
       "   activation   alpha  hidden_layer_sizes learning_rate  max_iter solver  \\\n",
       "0        relu  0.0001                   4      constant       500  lbfgs   \n",
       "1        relu  0.0001                   4      constant       500    sgd   \n",
       "2        relu  0.0001                   4      constant       500   adam   \n",
       "3        relu  0.0001                   4      adaptive       500  lbfgs   \n",
       "4        relu  0.0001                   4      adaptive       500    sgd   \n",
       "..        ...     ...                 ...           ...       ...    ...   \n",
       "79       relu  0.0010                  25      constant       500    sgd   \n",
       "80       relu  0.0010                  25      constant       500   adam   \n",
       "81       relu  0.0010                  25      adaptive       500  lbfgs   \n",
       "82       relu  0.0010                  25      adaptive       500    sgd   \n",
       "83       relu  0.0010                  25      adaptive       500   adam   \n",
       "\n",
       "    test_score  \n",
       "0     0.335294  \n",
       "1     0.080882  \n",
       "2     0.251471  \n",
       "3     0.390441  \n",
       "4     0.097059  \n",
       "..         ...  \n",
       "79    0.186765  \n",
       "80    0.550735  \n",
       "81    0.716912  \n",
       "82    0.191176  \n",
       "83    0.549265  \n",
       "\n",
       "[84 rows x 7 columns]"
      ]
     },
     "execution_count": 11,
     "metadata": {},
     "output_type": "execute_result"
    }
   ],
   "source": [
    "results_ANN_all= pd.DataFrame(gs_ANN_all.cv_results_['params'])\n",
    "results_ANN_all['test_score'] = gs_ANN_all.cv_results_['mean_test_score']\n",
    "results_ANN_all"
   ]
  },
  {
   "cell_type": "code",
   "execution_count": null,
   "id": "urban-debate",
   "metadata": {},
   "outputs": [],
   "source": []
  }
 ],
 "metadata": {
  "kernelspec": {
   "display_name": "Python 3",
   "language": "python",
   "name": "python3"
  },
  "language_info": {
   "codemirror_mode": {
    "name": "ipython",
    "version": 3
   },
   "file_extension": ".py",
   "mimetype": "text/x-python",
   "name": "python",
   "nbconvert_exporter": "python",
   "pygments_lexer": "ipython3",
   "version": "3.8.5"
  }
 },
 "nbformat": 4,
 "nbformat_minor": 5
}
