{
 "cells": [
  {
   "cell_type": "code",
   "execution_count": 18,
   "id": "golden-advancement",
   "metadata": {},
   "outputs": [],
   "source": [
    "import pandas as pd\n",
    "import numpy as np\n",
    "import warnings\n",
    "from sklearn.neighbors import KNeighborsClassifier\n",
    "from sklearn.model_selection import RepeatedStratifiedKFold\n",
    "from sklearn.model_selection import GridSearchCV\n",
    "\n",
    "warnings.filterwarnings('ignore') "
   ]
  },
  {
   "cell_type": "code",
   "execution_count": 19,
   "id": "recorded-overhead",
   "metadata": {},
   "outputs": [],
   "source": [
    "data = pd.read_csv(\"../Dataset/fe_leaf.csv\", delimiter=\",\")\n",
    "X_, y_ = data.iloc[:, :-1], data.iloc[:, -1:]\n",
    "num_features = len(X_.columns)"
   ]
  },
  {
   "cell_type": "code",
   "execution_count": 20,
   "id": "satellite-feeding",
   "metadata": {},
   "outputs": [],
   "source": [
    "cv_strat = RepeatedStratifiedKFold(n_splits=5, n_repeats=4, random_state=42)\n",
    "param = {'n_neighbors': [2, 4, 8, 12, 16, 20], 'p': [1, 2], 'weights':['uniform', 'distance']}"
   ]
  },
  {
   "cell_type": "code",
   "execution_count": 23,
   "id": "pending-bowling",
   "metadata": {},
   "outputs": [
    {
     "data": {
      "text/plain": [
       "0.6720588235294118"
      ]
     },
     "execution_count": 23,
     "metadata": {},
     "output_type": "execute_result"
    }
   ],
   "source": [
    "gs_KNN = GridSearchCV(estimator = KNeighborsClassifier(), param_grid = param, cv=cv_strat, scoring='accuracy')\n",
    "gs_KNN.fit(X_, y_)\n",
    "gs_KNN.best_params_\n",
    "gs_KNN.best_score_"
   ]
  },
  {
   "cell_type": "code",
   "execution_count": null,
   "id": "private-variation",
   "metadata": {},
   "outputs": [],
   "source": []
  }
 ],
 "metadata": {
  "kernelspec": {
   "display_name": "Python 3",
   "language": "python",
   "name": "python3"
  },
  "language_info": {
   "codemirror_mode": {
    "name": "ipython",
    "version": 3
   },
   "file_extension": ".py",
   "mimetype": "text/x-python",
   "name": "python",
   "nbconvert_exporter": "python",
   "pygments_lexer": "ipython3",
   "version": "3.8.5"
  }
 },
 "nbformat": 4,
 "nbformat_minor": 5
}
