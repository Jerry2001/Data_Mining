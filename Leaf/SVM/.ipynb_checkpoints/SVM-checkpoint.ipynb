{
 "cells": [
  {
   "cell_type": "code",
   "execution_count": 16,
   "id": "protective-wales",
   "metadata": {},
   "outputs": [],
   "source": [
    "import pandas as pd\n",
    "import numpy as np\n",
    "import warnings\n",
    "from sklearn import svm\n",
    "from sklearn.model_selection import RepeatedStratifiedKFold\n",
    "from sklearn.model_selection import GridSearchCV\n",
    "\n",
    "warnings.filterwarnings('ignore') "
   ]
  },
  {
   "cell_type": "code",
   "execution_count": null,
   "id": "fiscal-peripheral",
   "metadata": {},
   "outputs": [],
   "source": [
    "data = pd.read_csv(\"../Dataset/fe_leaf.csv\", delimiter=\",\")\n",
    "X_, y_ = data.iloc[:, :-1], data.iloc[:, -1:]\n",
    "num_features = len(X_.columns)"
   ]
  },
  {
   "cell_type": "code",
   "execution_count": null,
   "id": "hindu-channels",
   "metadata": {},
   "outputs": [],
   "source": [
    "cv_strat = RepeatedStratifiedKFold(n_splits=5, n_repeats=4, random_state=42)\n",
    "param = {'kernel':['linear', 'poly', 'rbf', 'sigmoid'], 'degree':[2, 3, 4, 5, 6, 7, 8], 'gamma':['scale', 'auto'], 'class_weight':['balanced', None], 'cache_size':[200]}"
   ]
  },
  {
   "cell_type": "code",
   "execution_count": null,
   "id": "otherwise-israeli",
   "metadata": {},
   "outputs": [],
   "source": [
    "gs_SVM = GridSearchCV(estimator = svm.SVC(), param_grid = param, cv=cv_strat, scoring='accuracy')\n",
    "gs_SVM.fit(X_, y_)\n",
    "print(gs_SVM.best_params_)\n",
    "print(gs_SVM.best_score_)"
   ]
  },
  {
   "cell_type": "code",
   "execution_count": null,
   "id": "intellectual-strategy",
   "metadata": {},
   "outputs": [],
   "source": [
    "results_KNN = pd.DataFrame(gs_KNN.cv_results_['params'])\n",
    "results_KNN['test_score'] = gs_KNN.cv_results_['mean_test_score']\n",
    "results_KNN['metric'] = results_KNN['p'].replace([1,2,3], [\"Manhattan\", \"Euclidean\", \"Minkowski\"\n",
    "])\n",
    "results_KNN"
   ]
  },
  {
   "cell_type": "code",
   "execution_count": null,
   "id": "least-elder",
   "metadata": {},
   "outputs": [],
   "source": []
  }
 ],
 "metadata": {
  "kernelspec": {
   "display_name": "Python 3",
   "language": "python",
   "name": "python3"
  },
  "language_info": {
   "codemirror_mode": {
    "name": "ipython",
    "version": 3
   },
   "file_extension": ".py",
   "mimetype": "text/x-python",
   "name": "python",
   "nbconvert_exporter": "python",
   "pygments_lexer": "ipython3",
   "version": "3.8.5"
  }
 },
 "nbformat": 4,
 "nbformat_minor": 5
}
