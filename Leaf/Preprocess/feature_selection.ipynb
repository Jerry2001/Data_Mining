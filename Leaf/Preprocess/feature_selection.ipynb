{
 "cells": [
  {
   "cell_type": "code",
   "execution_count": 189,
   "id": "chicken-northwest",
   "metadata": {},
   "outputs": [],
   "source": [
    "import pandas as pd\n",
    "import numpy as np\n",
    "import warnings\n",
    "from sklearn.neighbors import KNeighborsClassifier\n",
    "from sklearn.model_selection import RepeatedStratifiedKFold\n",
    "from sklearn.model_selection import cross_val_score\n",
    "from sklearn.model_selection import train_test_split\n",
    "from sklearn.feature_selection import SelectKBest\n",
    "from sklearn.feature_selection import mutual_info_classif\n",
    "from sklearn.ensemble import RandomForestClassifier\n",
    "from scipy import stats\n",
    "\n",
    "warnings.filterwarnings('ignore') "
   ]
  },
  {
   "cell_type": "code",
   "execution_count": 190,
   "id": "flexible-species",
   "metadata": {},
   "outputs": [],
   "source": [
    "data = pd.read_csv(\"../Dataset/leaf.csv\", delimiter=\",\")\n",
    "X_, y_ = data.iloc[:, :-1], data.iloc[:, -1:],\n",
    "x_train, x_test, y_train, y_test = train_test_split(X_, y_, test_size=0.2, random_state= 0)\n",
    "num_features = len(X_.columns)"
   ]
  },
  {
   "cell_type": "markdown",
   "id": "photographic-italic",
   "metadata": {},
   "source": [
    "# Full Dataset Accuracy"
   ]
  },
  {
   "cell_type": "code",
   "execution_count": 193,
   "id": "vocal-greenhouse",
   "metadata": {},
   "outputs": [],
   "source": [
    "clf = KNeighborsClassifier(n_neighbors=5)\n",
    "cv_strat = RepeatedStratifiedKFold(n_splits=5, n_repeats=4, random_state=42)"
   ]
  },
  {
   "cell_type": "code",
   "execution_count": 194,
   "id": "ambient-visiting",
   "metadata": {},
   "outputs": [],
   "source": [
    "cv_results_full = cross_val_score(estimator = clf,  X = X_, y = y_, cv = cv_strat, scoring = 'accuracy')"
   ]
  },
  {
   "cell_type": "code",
   "execution_count": 195,
   "id": "elementary-vitamin",
   "metadata": {},
   "outputs": [
    {
     "data": {
      "text/plain": [
       "0.5477941176470588"
      ]
     },
     "execution_count": 195,
     "metadata": {},
     "output_type": "execute_result"
    }
   ],
   "source": [
    "cv_results_full.mean()"
   ]
  },
  {
   "cell_type": "markdown",
   "id": "judicial-rally",
   "metadata": {},
   "source": [
    "# FScore accuracy"
   ]
  },
  {
   "cell_type": "code",
   "execution_count": 197,
   "id": "separated-excerpt",
   "metadata": {},
   "outputs": [
    {
     "name": "stdout",
     "output_type": "stream",
     "text": [
      "['Aspect Ratio' 'Isoperimetric Factor' 'Solidity' 'Elongation'\n",
      " 'Stochastic Convexity' 'Eccentricity' 'Maximal Indentation Depth'\n",
      " 'Average Contrast' 'Smoothness' 'Average Intensity' 'Entropy'\n",
      " 'Third moment' 'Lobedness' 'Uniformity']\n",
      "[177.36851327 150.62706584 143.51971656 120.46404269  85.31945942\n",
      "  66.08024337  44.42536511  37.38593165  33.2840698   29.12326416\n",
      "  27.17029832  26.67072643  23.63650093  11.45661752]\n",
      "['Aspect Ratio' 'Isoperimetric Factor' 'Solidity' 'Elongation'\n",
      " 'Stochastic Convexity' 'Eccentricity' 'Maximal Indentation Depth'\n",
      " 'Average Contrast' 'Smoothness' 'Average Intensity' 'Entropy'\n",
      " 'Third moment' 'Lobedness' 'Uniformity']\n",
      "[177.36851327 150.62706584 143.51971656 120.46404269  85.31945942\n",
      "  66.08024337  44.42536511  37.38593165  33.2840698   29.12326416\n",
      "  27.17029832  26.67072643  23.63650093  11.45661752]\n"
     ]
    }
   ],
   "source": [
    "fscore = SelectKBest(k = 'all')\n",
    "fscore.fit_transform(X_, y_)\n",
    "indices_fscore = np.argsort(fscore.scores_)[::-1][0:num_features]\n",
    "print(X.columns[indices_fscore].values)\n",
    "print(fscore.scores_[indices_fscore])\n",
    "fscore = SelectKBest(k = 'all')\n",
    "fscore.fit_transform(X_, y_)\n",
    "indices_fscore = np.argsort(fscore.scores_)[::-1][0:num_features]\n",
    "print(X.columns[indices_fscore].values)\n",
    "print(fscore.scores_[indices_fscore])# FScore accuracy"
   ]
  },
  {
   "cell_type": "code",
   "execution_count": 198,
   "id": "fossil-addition",
   "metadata": {},
   "outputs": [
    {
     "data": {
      "text/plain": [
       "0.5691176470588235"
      ]
     },
     "execution_count": 198,
     "metadata": {},
     "output_type": "execute_result"
    }
   ],
   "source": [
    "cv_results_fscore = cross_val_score(estimator = clf,  X = X_.iloc[:, indices_fscore[:10]], y = y_, cv = cv_strat, scoring = 'accuracy')\n",
    "cv_results_fscore.mean()"
   ]
  },
  {
   "cell_type": "markdown",
   "id": "perfect-sleeping",
   "metadata": {},
   "source": [
    "# Mutual Info Accuracy"
   ]
  },
  {
   "cell_type": "code",
   "execution_count": 199,
   "id": "operational-visit",
   "metadata": {},
   "outputs": [
    {
     "name": "stdout",
     "output_type": "stream",
     "text": [
      "['Aspect Ratio' 'Solidity' 'Elongation' 'Eccentricity'\n",
      " 'Isoperimetric Factor' 'Maximal Indentation Depth' 'Lobedness'\n",
      " 'Stochastic Convexity' 'Third moment' 'Average Contrast' 'Smoothness'\n",
      " 'Average Intensity' 'Entropy' 'Uniformity']\n",
      "[1.42371091 1.36483519 1.33016315 1.31395589 1.27636629 1.11460545\n",
      " 1.09612128 0.79660176 0.79423131 0.78663465 0.77598898 0.77019057\n",
      " 0.75231111 0.70088635]\n"
     ]
    }
   ],
   "source": [
    "mutual_info = SelectKBest(mutual_info_classif, k = 'all')\n",
    "mutual_info.fit_transform(X_, y_)\n",
    "indices_mutual_info = np.argsort(mutual_info.scores_)[::-1][0:num_features]\n",
    "print(X.columns[indices_mutual_info].values)\n",
    "print(mutual_info.scores_[indices_mutual_info])"
   ]
  },
  {
   "cell_type": "code",
   "execution_count": 200,
   "id": "undefined-allowance",
   "metadata": {},
   "outputs": [
    {
     "data": {
      "text/plain": [
       "0.5647058823529412"
      ]
     },
     "execution_count": 200,
     "metadata": {},
     "output_type": "execute_result"
    }
   ],
   "source": [
    "cv_results_mutual_info = cross_val_score(estimator = clf,  X = X_.iloc[:, indices_mutual_info[:12]], y = y_, cv = cv_strat, scoring = 'accuracy')\n",
    "cv_results_mutual_info.mean()"
   ]
  },
  {
   "cell_type": "markdown",
   "id": "typical-growth",
   "metadata": {},
   "source": [
    "# Random Forest Importance Accuracy"
   ]
  },
  {
   "cell_type": "code",
   "execution_count": 208,
   "id": "incomplete-binding",
   "metadata": {},
   "outputs": [
    {
     "ename": "AttributeError",
     "evalue": "'RandomForestClassifier' object has no attribute 'fit_transform'",
     "output_type": "error",
     "traceback": [
      "\u001b[0;31m---------------------------------------------------------------------------\u001b[0m",
      "\u001b[0;31mAttributeError\u001b[0m                            Traceback (most recent call last)",
      "\u001b[0;32m<ipython-input-208-f149d41543f9>\u001b[0m in \u001b[0;36m<module>\u001b[0;34m\u001b[0m\n\u001b[1;32m      1\u001b[0m \u001b[0mrfi\u001b[0m \u001b[0;34m=\u001b[0m \u001b[0mRandomForestClassifier\u001b[0m\u001b[0;34m(\u001b[0m\u001b[0mn_estimators\u001b[0m \u001b[0;34m=\u001b[0m \u001b[0;36m200\u001b[0m\u001b[0;34m)\u001b[0m\u001b[0;34m\u001b[0m\u001b[0;34m\u001b[0m\u001b[0m\n\u001b[0;32m----> 2\u001b[0;31m \u001b[0mrfi\u001b[0m\u001b[0;34m.\u001b[0m\u001b[0mfit_transform\u001b[0m\u001b[0;34m(\u001b[0m\u001b[0mX_\u001b[0m\u001b[0;34m,\u001b[0m \u001b[0my_\u001b[0m\u001b[0;34m)\u001b[0m\u001b[0;34m\u001b[0m\u001b[0;34m\u001b[0m\u001b[0m\n\u001b[0m\u001b[1;32m      3\u001b[0m \u001b[0mindices_rfi\u001b[0m \u001b[0;34m=\u001b[0m \u001b[0mnp\u001b[0m\u001b[0;34m.\u001b[0m\u001b[0margsort\u001b[0m\u001b[0;34m(\u001b[0m\u001b[0mrfi\u001b[0m\u001b[0;34m.\u001b[0m\u001b[0mfeature_importances_\u001b[0m\u001b[0;34m)\u001b[0m\u001b[0;34m[\u001b[0m\u001b[0;34m:\u001b[0m\u001b[0;34m:\u001b[0m\u001b[0;34m-\u001b[0m\u001b[0;36m1\u001b[0m\u001b[0;34m]\u001b[0m\u001b[0;34m[\u001b[0m\u001b[0;36m0\u001b[0m\u001b[0;34m:\u001b[0m\u001b[0mnum_features\u001b[0m\u001b[0;34m]\u001b[0m\u001b[0;34m\u001b[0m\u001b[0;34m\u001b[0m\u001b[0m\n\u001b[1;32m      4\u001b[0m \u001b[0mprint\u001b[0m\u001b[0;34m(\u001b[0m\u001b[0mX\u001b[0m\u001b[0;34m.\u001b[0m\u001b[0mcolumns\u001b[0m\u001b[0;34m[\u001b[0m\u001b[0mindices_rfi\u001b[0m\u001b[0;34m]\u001b[0m\u001b[0;34m.\u001b[0m\u001b[0mvalues\u001b[0m\u001b[0;34m)\u001b[0m\u001b[0;34m\u001b[0m\u001b[0;34m\u001b[0m\u001b[0m\n\u001b[1;32m      5\u001b[0m \u001b[0mprint\u001b[0m\u001b[0;34m(\u001b[0m\u001b[0mrfi\u001b[0m\u001b[0;34m.\u001b[0m\u001b[0mfeature_importances_\u001b[0m\u001b[0;34m[\u001b[0m\u001b[0mindices_rfi\u001b[0m\u001b[0;34m]\u001b[0m\u001b[0;34m)\u001b[0m\u001b[0;34m\u001b[0m\u001b[0;34m\u001b[0m\u001b[0m\n",
      "\u001b[0;31mAttributeError\u001b[0m: 'RandomForestClassifier' object has no attribute 'fit_transform'"
     ]
    }
   ],
   "source": [
    "rfi = RandomForestClassifier(n_estimators = 200)\n",
    "rfi.fit_transform(X_, y_)\n",
    "indices_rfi = np.argsort(rfi.feature_importances_)[::-1][0:num_features]\n",
    "print(X.columns[indices_rfi].values)\n",
    "print(rfi.feature_importances_[indices_rfi])"
   ]
  },
  {
   "cell_type": "code",
   "execution_count": 202,
   "id": "transsexual-juice",
   "metadata": {
    "scrolled": true
   },
   "outputs": [
    {
     "data": {
      "text/plain": [
       "0.5463235294117648"
      ]
     },
     "execution_count": 202,
     "metadata": {},
     "output_type": "execute_result"
    }
   ],
   "source": [
    "cv_results_rfi = cross_val_score(estimator = clf,  X = X_.iloc[:, indices_rfi[:8]], y = y_, cv = cv_strat, scoring = 'accuracy')\n",
    "cv_results_rfi.mean()"
   ]
  },
  {
   "cell_type": "markdown",
   "id": "conservative-murder",
   "metadata": {},
   "source": [
    "# Paired T-Test"
   ]
  },
  {
   "cell_type": "code",
   "execution_count": 157,
   "id": "horizontal-connecticut",
   "metadata": {},
   "outputs": [
    {
     "name": "stdout",
     "output_type": "stream",
     "text": [
      "Ttest_relResult(statistic=1.8276667316931274, pvalue=0.08334819806466919)\n",
      "Ttest_relResult(statistic=1.8276667316931274, pvalue=0.08334819806466919)\n",
      "Ttest_relResult(statistic=nan, pvalue=nan)\n"
     ]
    }
   ],
   "source": [
    "print(stats.ttest_rel(cv_results_fscore, cv_results_rfi))\n",
    "print(stats.ttest_rel(cv_results_mutual_info, cv_results_rfi))\n",
    "print(stats.ttest_rel(cv_results_mutual_info, cv_results_fscore)) "
   ]
  },
  {
   "cell_type": "code",
   "execution_count": 160,
   "id": "addressed-concentration",
   "metadata": {},
   "outputs": [
    {
     "name": "stdout",
     "output_type": "stream",
     "text": [
      "Ttest_relResult(statistic=1.7803546183312935, pvalue=0.09101559261121525)\n"
     ]
    }
   ],
   "source": [
    "print(stats.ttest_rel(cv_results_fscore, cv_results_full))"
   ]
  },
  {
   "cell_type": "markdown",
   "id": "direct-dream",
   "metadata": {},
   "source": [
    "# Convert to CSV"
   ]
  },
  {
   "cell_type": "code",
   "execution_count": 188,
   "id": "colored-editing",
   "metadata": {},
   "outputs": [],
   "source": [
    "data.iloc[:, list(indices_fscore[:10]) + [num_features]].to_csv(path_or_buf=\"../Dataset/fe_leaf.csv\", index= False)"
   ]
  }
 ],
 "metadata": {
  "kernelspec": {
   "display_name": "Python 3",
   "language": "python",
   "name": "python3"
  },
  "language_info": {
   "codemirror_mode": {
    "name": "ipython",
    "version": 3
   },
   "file_extension": ".py",
   "mimetype": "text/x-python",
   "name": "python",
   "nbconvert_exporter": "python",
   "pygments_lexer": "ipython3",
   "version": "3.8.5"
  }
 },
 "nbformat": 4,
 "nbformat_minor": 5
}
