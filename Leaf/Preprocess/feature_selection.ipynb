{
 "cells": [
  {
   "cell_type": "code",
   "execution_count": 149,
   "id": "introductory-transcript",
   "metadata": {},
   "outputs": [],
   "source": [
    "import pandas as pd\n",
    "import numpy as np\n",
    "import warnings\n",
    "from sklearn.neighbors import KNeighborsClassifier\n",
    "from sklearn.model_selection import RepeatedStratifiedKFold\n",
    "from sklearn.model_selection import cross_val_score\n",
    "from sklearn.model_selection import train_test_split\n",
    "from sklearn.feature_selection import SelectKBest\n",
    "from sklearn.feature_selection import mutual_info_classif\n",
    "from sklearn.ensemble import RandomForestClassifier\n",
    "from scipy import stats\n",
    "\n",
    "warnings.filterwarnings('ignore') "
   ]
  },
  {
   "cell_type": "code",
   "execution_count": 41,
   "id": "christian-north",
   "metadata": {},
   "outputs": [],
   "source": [
    "data = pd.read_csv(\"../Dataset/leaf.csv\", delimiter=\",\")\n",
    "X_, y_ = data.iloc[:, :-1], data.iloc[:, -1:],\n",
    "x_train, x_test, y_train, y_test = train_test_split(X_, y_, test_size=0.2, random_state= 0)\n",
    "num_features = len(X_.columns)"
   ]
  },
  {
   "cell_type": "code",
   "execution_count": 32,
   "id": "expected-skiing",
   "metadata": {},
   "outputs": [],
   "source": [
    "clf = KNeighborsClassifier(n_neighbors=5)\n",
    "cv_strat = RepeatedStratifiedKFold(n_splits=5, n_repeats=4, random_state=42)"
   ]
  },
  {
   "cell_type": "code",
   "execution_count": 158,
   "id": "thorough-military",
   "metadata": {},
   "outputs": [],
   "source": [
    "cv_results_full = cross_val_score(estimator = clf,  X = X_, y = y_, cv = cv_strat, scoring = 'accuracy')"
   ]
  },
  {
   "cell_type": "code",
   "execution_count": 159,
   "id": "adolescent-packet",
   "metadata": {},
   "outputs": [
    {
     "data": {
      "text/plain": [
       "0.5477941176470588"
      ]
     },
     "execution_count": 159,
     "metadata": {},
     "output_type": "execute_result"
    }
   ],
   "source": [
    "cv_results_full.mean()"
   ]
  },
  {
   "cell_type": "code",
   "execution_count": 85,
   "id": "local-flesh",
   "metadata": {},
   "outputs": [
    {
     "name": "stdout",
     "output_type": "stream",
     "text": [
      "['Aspect Ratio' 'Isoperimetric Factor' 'Solidity' 'Elongation'\n",
      " 'Stochastic Convexity' 'Eccentricity' 'Maximal Indentation Depth'\n",
      " 'Average Contrast' 'Smoothness' 'Average Intensity' 'Entropy'\n",
      " 'Third moment' 'Lobedness' 'Uniformity']\n",
      "[177.36851327 150.62706584 143.51971656 120.46404269  85.31945942\n",
      "  66.08024337  44.42536511  37.38593165  33.2840698   29.12326416\n",
      "  27.17029832  26.67072643  23.63650093  11.45661752]\n"
     ]
    }
   ],
   "source": [
    "fscore = SelectKBest(k = 'all')\n",
    "fscore.fit_transform(X_, y_)\n",
    "indices_fscore = np.argsort(fscore.scores_)[::-1][0:num_features]\n",
    "print(X.columns[indices_fscore].values)\n",
    "print(fscore.scores_[indices_fscore])"
   ]
  },
  {
   "cell_type": "code",
   "execution_count": 97,
   "id": "sound-discipline",
   "metadata": {},
   "outputs": [
    {
     "data": {
      "text/plain": [
       "0.5691176470588235"
      ]
     },
     "execution_count": 97,
     "metadata": {},
     "output_type": "execute_result"
    }
   ],
   "source": [
    "cv_results_fscore = cross_val_score(estimator = clf,  X = X_.iloc[:, indices_fscore[:10]], y = y_, cv = cv_strat, scoring = 'accuracy')\n",
    "cv_results_fscore.mean()"
   ]
  },
  {
   "cell_type": "code",
   "execution_count": 130,
   "id": "understanding-acoustic",
   "metadata": {},
   "outputs": [
    {
     "name": "stdout",
     "output_type": "stream",
     "text": [
      "['Aspect Ratio' 'Solidity' 'Elongation' 'Eccentricity'\n",
      " 'Isoperimetric Factor' 'Maximal Indentation Depth' 'Lobedness'\n",
      " 'Stochastic Convexity' 'Third moment' 'Average Contrast' 'Smoothness'\n",
      " 'Average Intensity' 'Entropy' 'Uniformity']\n",
      "[1.42470931 1.36514485 1.33009141 1.31396946 1.27632173 1.11460545\n",
      " 1.09612128 0.80802782 0.79420408 0.78653559 0.77582558 0.77028467\n",
      " 0.75241624 0.699652  ]\n"
     ]
    }
   ],
   "source": [
    "mutual_info = SelectKBest(mutual_info_classif, k = 'all')\n",
    "mutual_info.fit_transform(X_, y_)\n",
    "indices_mutual_info = np.argsort(mutual_info.scores_)[::-1][0:num_features]\n",
    "print(X.columns[indices_mutual_info].values)\n",
    "print(mutual_info.scores_[indices_mutual_info])"
   ]
  },
  {
   "cell_type": "code",
   "execution_count": 153,
   "id": "social-flush",
   "metadata": {},
   "outputs": [
    {
     "data": {
      "text/plain": [
       "0.5647058823529412"
      ]
     },
     "execution_count": 153,
     "metadata": {},
     "output_type": "execute_result"
    }
   ],
   "source": [
    "cv_results_mutual_info = cross_val_score(estimator = clf,  X = X_.iloc[:, indices_mutual_info[:12]], y = y_, cv = cv_strat, scoring = 'accuracy')\n",
    "cv_results_mutual_info.mean()"
   ]
  },
  {
   "cell_type": "code",
   "execution_count": 154,
   "id": "composite-racing",
   "metadata": {},
   "outputs": [
    {
     "name": "stdout",
     "output_type": "stream",
     "text": [
      "['Solidity' 'Aspect Ratio' 'Elongation' 'Eccentricity'\n",
      " 'Isoperimetric Factor' 'Lobedness' 'Entropy' 'Maximal Indentation Depth'\n",
      " 'Average Intensity' 'Uniformity' 'Third moment' 'Smoothness'\n",
      " 'Stochastic Convexity' 'Average Contrast']\n",
      "[0.12119304 0.08899132 0.08568173 0.08547711 0.0829449  0.07424862\n",
      " 0.0722997  0.0666012  0.0561054  0.05533614 0.05517506 0.05291166\n",
      " 0.05252473 0.05050939]\n"
     ]
    }
   ],
   "source": [
    "rfi = RandomForestClassifier(n_estimators = 200)\n",
    "rfi.fit(X_, y_)\n",
    "indices_rfi = np.argsort(rfi.feature_importances_)[::-1][0:num_features]\n",
    "print(X.columns[indices_rfi].values)\n",
    "print(rfi.feature_importances_[indices_rfi])"
   ]
  },
  {
   "cell_type": "code",
   "execution_count": 155,
   "id": "major-evidence",
   "metadata": {},
   "outputs": [
    {
     "data": {
      "text/plain": [
       "0.5463235294117648"
      ]
     },
     "execution_count": 155,
     "metadata": {},
     "output_type": "execute_result"
    }
   ],
   "source": [
    "cv_results_rfi = cross_val_score(estimator = clf,  X = X_.iloc[:, indices_rfi[:8]], y = y_, cv = cv_strat, scoring = 'accuracy')\n",
    "cv_results_rfi.mean()"
   ]
  },
  {
   "cell_type": "code",
   "execution_count": 157,
   "id": "monthly-cancer",
   "metadata": {},
   "outputs": [
    {
     "name": "stdout",
     "output_type": "stream",
     "text": [
      "Ttest_relResult(statistic=1.8276667316931274, pvalue=0.08334819806466919)\n",
      "Ttest_relResult(statistic=1.8276667316931274, pvalue=0.08334819806466919)\n",
      "Ttest_relResult(statistic=nan, pvalue=nan)\n"
     ]
    }
   ],
   "source": [
    "print(stats.ttest_rel(cv_results_fscore, cv_results_rfi))\n",
    "print(stats.ttest_rel(cv_results_mutual_info, cv_results_rfi))\n",
    "print(stats.ttest_rel(cv_results_mutual_info, cv_results_fscore)) "
   ]
  },
  {
   "cell_type": "code",
   "execution_count": 160,
   "id": "foreign-algebra",
   "metadata": {},
   "outputs": [
    {
     "name": "stdout",
     "output_type": "stream",
     "text": [
      "Ttest_relResult(statistic=1.7803546183312935, pvalue=0.09101559261121525)\n"
     ]
    }
   ],
   "source": [
    "print(stats.ttest_rel(cv_results_fscore, cv_results_full))"
   ]
  },
  {
   "cell_type": "code",
   "execution_count": 163,
   "id": "instrumental-acrobat",
   "metadata": {},
   "outputs": [],
   "source": [
    "data.iloc[:, indices_fscore[:10]].to_csv(path_or_buf=\"../Dataset/fe_leaf.csv\", index= False)"
   ]
  },
  {
   "cell_type": "code",
   "execution_count": 184,
   "id": "harmful-cover",
   "metadata": {},
   "outputs": [
    {
     "name": "stdout",
     "output_type": "stream",
     "text": [
      "[1, 3, 2, 0, 5, 6, 7, 4, 11, 9]\n"
     ]
    }
   ],
   "source": [
    "print(list(indices_fscore[:10]))"
   ]
  },
  {
   "cell_type": "code",
   "execution_count": null,
   "id": "widespread-armenia",
   "metadata": {},
   "outputs": [],
   "source": []
  }
 ],
 "metadata": {
  "kernelspec": {
   "display_name": "Python 3",
   "language": "python",
   "name": "python3"
  },
  "language_info": {
   "codemirror_mode": {
    "name": "ipython",
    "version": 3
   },
   "file_extension": ".py",
   "mimetype": "text/x-python",
   "name": "python",
   "nbconvert_exporter": "python",
   "pygments_lexer": "ipython3",
   "version": "3.8.5"
  }
 },
 "nbformat": 4,
 "nbformat_minor": 5
}
